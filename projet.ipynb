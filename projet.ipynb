{
 "cells": [
  {
   "cell_type": "code",
   "execution_count": 4,
   "metadata": {},
   "outputs": [],
   "source": [
    "import matplotlib.pyplot as plt\n",
    "import numpy as np\n",
    "from math import sqrt"
   ]
  },
  {
   "cell_type": "code",
   "execution_count": 5,
   "metadata": {},
   "outputs": [],
   "source": [
    "Rayons = [] \n",
    "R = []\n",
    "G = []\n",
    "B = []"
   ]
  },
  {
   "cell_type": "code",
   "execution_count": 6,
   "metadata": {},
   "outputs": [
    {
     "name": "stdout",
     "output_type": "stream",
     "text": [
      "R1 : 3.025000 avec 0.106066\n",
      "V1 : 3.100000 avec 0.141421\n",
      "B1 : 3.050000 avec 0.070711\n",
      "R2 : 3.820000 avec 0.130384\n",
      "V2 : 4.066667 avec 0.057735\n",
      "B2 : 4.033333 avec 0.057735\n",
      "R3 : 4.833333 avec 0.057735\n",
      "V3 : 5.050000 avec 0.086603\n",
      "B3 : 5.025000 avec 0.050000\n"
     ]
    }
   ],
   "source": [
    "def moyenne(l: list)->float:\n",
    "    \"\"\" Calcul la moyenne des nombres d'une liste l \"\"\"  \n",
    "    return sum(l) / len(l)\n",
    "\n",
    "def ecart_type(l: list)->float:\n",
    "    N = len(l)\n",
    "    moy = moyenne(l)\n",
    "    sumxi_moyx2 = 0\n",
    "    for i in range(N):\n",
    "        sumxi_moyx2 += (l[i] - moy)*(l[i] - moy)\n",
    "    return sqrt((1 / ( N - 1 )) * sumxi_moyx2)\n",
    "\n",
    "R1 = [3.1, 2.95]\n",
    "V1 = [3.2, 3]\n",
    "B1 = [3, 3.1]\n",
    "R2 = [4,3.8,3.9,3.7,3.7]\n",
    "V2 = [4.1, 4.1, 4]\n",
    "B2 = [4.1, 4, 4]\n",
    "R3 = [4.9, 4.8, 4.8]\n",
    "V3 = [5.15, 5, 5]\n",
    "B3 = [5, 5, 5, 5.1]\n",
    "\n",
    "print(\"R1 : %f avec %f\" %(moyenne(R1),ecart_type(R1)))\n",
    "print(\"V1 : %f avec %f\" %(moyenne(V1),ecart_type(V1)))\n",
    "print(\"B1 : %f avec %f\" %(moyenne(B1),ecart_type(B1)))\n",
    "print(\"R2 : %f avec %f\" %(moyenne(R2),ecart_type(R2)))\n",
    "print(\"V2 : %f avec %f\" %(moyenne(V2),ecart_type(V2)))\n",
    "print(\"B2 : %f avec %f\" %(moyenne(B2),ecart_type(B2)))\n",
    "print(\"R3 : %f avec %f\" %(moyenne(R3),ecart_type(R3)))\n",
    "print(\"V3 : %f avec %f\" %(moyenne(V3),ecart_type(V3)))\n",
    "print(\"B3 : %f avec %f\" %(moyenne(B3),ecart_type(B3)))"
   ]
  },
  {
   "cell_type": "code",
   "execution_count": 7,
   "metadata": {},
   "outputs": [
    {
     "name": "stdout",
     "output_type": "stream",
     "text": [
      "Module d'Young Rose : 0.000142\n",
      "Module d'Young Bleu : 0.000358\n",
      "Module d'Young Vert : 0.001180\n",
      "0 0.0011804856459330145\n",
      "1 0.0001423683074265976\n",
      "2 0.0003551131221719458\n"
     ]
    }
   ],
   "source": [
    "def young(m, l_0, l, S):\n",
    "    F = m*9.81\n",
    "    e = (l-l_0)/l_0\n",
    "    return (F)/(S)*1/e*1e-9\n",
    "\n",
    "print(\"Module d'Young Rose : %f\" %(young(1, 96.8e-3, (36e-3)+96.8e-3, (9.6e-3)*19.3e-3))) \n",
    "print(\"Module d'Young Bleu : %f\" %(young(1, 60e-3, (13e-3)+60e-3, (5e-3)*25.3e-3)))\n",
    "print(\"Module d'Young Vert : %f\" %(young(1, 150.9e-3, (6e-3)+150.9e-3, (10e-3)*20.9e-3)))\n",
    "\n",
    "def Y(S, dl, l0, m, g = 9.81):\n",
    "    eps = dl/l0\n",
    "    return ((m*g)/(S)) * (1/eps)\n",
    "\n",
    "S = [10*20.9, 9.6*19.3, 5*25.5]\n",
    "S = np.array(S)*1e-6\n",
    "DL = np.array([6, 36, 13])*1e-3\n",
    "L = np.array([150.9, 96.8, 60])*1e-3\n",
    "for i in range(3):\n",
    "    print(i, Y(S[i], DL[i], L[i], 1)*1e-9)\n",
    "    "
   ]
  }
 ],
 "metadata": {
  "kernelspec": {
   "display_name": "Python 3.10.6 64-bit",
   "language": "python",
   "name": "python3"
  },
  "language_info": {
   "codemirror_mode": {
    "name": "ipython",
    "version": 3
   },
   "file_extension": ".py",
   "mimetype": "text/x-python",
   "name": "python",
   "nbconvert_exporter": "python",
   "pygments_lexer": "ipython3",
   "version": "3.10.6"
  },
  "orig_nbformat": 4,
  "vscode": {
   "interpreter": {
    "hash": "31f2aee4e71d21fbe5cf8b01ff0e069b9275f58929596ceb00d14d90e3e16cd6"
   }
  }
 },
 "nbformat": 4,
 "nbformat_minor": 2
}
